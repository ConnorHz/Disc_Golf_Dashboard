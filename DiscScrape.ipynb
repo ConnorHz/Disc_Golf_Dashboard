{
 "metadata": {
  "language_info": {
   "codemirror_mode": {
    "name": "ipython",
    "version": 3
   },
   "file_extension": ".py",
   "mimetype": "text/x-python",
   "name": "python",
   "nbconvert_exporter": "python",
   "pygments_lexer": "ipython3",
   "version": "3.8.3-final"
  },
  "orig_nbformat": 2,
  "kernelspec": {
   "name": "python3",
   "display_name": "Python 3",
   "language": "python"
  }
 },
 "nbformat": 4,
 "nbformat_minor": 2,
 "cells": [
  {
   "cell_type": "code",
   "execution_count": null,
   "metadata": {},
   "outputs": [],
   "source": [
    "# Import Dependencies\n",
    "from splinter import Browser\n",
    "from bs4 import BeautifulSoup as bs\n",
    "import pandas as pd\n",
    "import time\n",
    "from datetime import datetime\n",
    "import json"
   ]
  },
  {
   "cell_type": "code",
   "execution_count": null,
   "metadata": {},
   "outputs": [],
   "source": [
    "# Set up for the scrape ##### Change to match yours\n",
    "executable_path = {'executable_path': 'C:/Users/Joe/bin/chromedriver.exe'}"
   ]
  },
  {
   "cell_type": "code",
   "execution_count": null,
   "metadata": {},
   "outputs": [],
   "source": [
    "StartTime= datetime.now()\n",
    "fileName='DiscData.json'\n",
    "with open(fileName,'a') as outfile:\n",
    "    outfile.write(\"[\")\n",
    "\n",
    "\n",
    "\n",
    "\n",
    "with open(fileName,'a') as outfile:\n",
    "    outfile.write(\"]\")\n",
    "print(f'The scrape took {datetime.now()-StartTime}')"
   ]
  }
 ]
}